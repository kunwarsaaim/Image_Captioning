{
  "nbformat": 4,
  "nbformat_minor": 0,
  "metadata": {
    "colab": {
      "name": "model.ipynb",
      "version": "0.3.2",
      "provenance": [],
      "include_colab_link": true
    },
    "kernelspec": {
      "name": "python3",
      "display_name": "Python 3"
    },
    "accelerator": "GPU"
  },
  "cells": [
    {
      "cell_type": "markdown",
      "metadata": {
        "id": "view-in-github",
        "colab_type": "text"
      },
      "source": [
        "<a href=\"https://colab.research.google.com/github/kunwarsaaim/Image_Captioning/blob/master/model.ipynb\" target=\"_parent\"><img src=\"https://colab.research.google.com/assets/colab-badge.svg\" alt=\"Open In Colab\"/></a>"
      ]
    },
    {
      "cell_type": "code",
      "metadata": {
        "id": "6t5Pt75hcmHr",
        "colab_type": "code",
        "colab": {}
      },
      "source": [
        "import numpy as np\n",
        "import matplotlib.pyplot as plt\n",
        "%matplotlib inline"
      ],
      "execution_count": 0,
      "outputs": []
    },
    {
      "cell_type": "code",
      "metadata": {
        "id": "cSJ-mmyZh8vo",
        "colab_type": "code",
        "colab": {}
      },
      "source": [
        "from os import listdir\n",
        "from keras.preprocessing.image import load_img\n",
        "from keras.preprocessing.image import img_to_array\n",
        "from keras.applications.vgg16 import preprocess_input\n"
      ],
      "execution_count": 0,
      "outputs": []
    },
    {
      "cell_type": "code",
      "metadata": {
        "id": "JHs2UL2Xij58",
        "colab_type": "code",
        "colab": {}
      },
      "source": [
        "def load_photos(directory):      #directory:in which photos are stored\n",
        "  images = dict()\n",
        "  for file in listdir(directory):\n",
        "    filename = directort + '/' + file\n",
        "    #load image from file\n",
        "    image = load_img(filename,target_size=(224,224))\n",
        "    #convert to numpy array\n",
        "    image = img_to_array(image)\n",
        "    #reshape data for the model\n",
        "    image = np.expand_dims(image,axis=0)\n",
        "    image = preprocess_input(image)\n",
        "    #get image id\n",
        "    image_id = name.split(\".\")[0]\n",
        "    #mapping image_id to numpy array converted image\n",
        "    images[image_id] = image\n",
        "  return images\n",
        "\n",
        "                          "
      ],
      "execution_count": 0,
      "outputs": []
    },
    {
      "cell_type": "code",
      "metadata": {
        "id": "Qmho0OtYmyqS",
        "colab_type": "code",
        "colab": {}
      },
      "source": [
        "def load_doc(filename):\n",
        "  #open file\n",
        "  file = open(filename,'r')\n",
        "  \n",
        "  text = file.read()\n",
        "  \n",
        "  file.close()\n",
        "  return text\n",
        "\n",
        "#discription for images\n",
        "\n",
        "def load_discription(doc):\n",
        "  mapping = dict()\n",
        "  for line in doc.split(\"\\n\"):\n",
        "    #split line by white spaces\n",
        "    tokens = line.split()\n",
        "    if len(line)<2:\n",
        "      continue\n",
        "    #first token as image id and rest as caption\n",
        "    image_id,caption = tokens[0],tokens[1:]\n",
        "    #remove filename from image\n",
        "    image_id = image_id.split('.')[0]\n",
        "    #tokens to string\n",
        "    caption = \" \".join(caption)\n",
        "    #store first caption\n",
        "    if image_id not in mapping:\n",
        "      mapping[image_id] = caption\n",
        "  return mapping\n",
        "\n",
        "    "
      ],
      "execution_count": 0,
      "outputs": []
    }
  ]
}